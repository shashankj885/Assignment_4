{
 "cells": [
  {
   "cell_type": "markdown",
   "id": "298d1383",
   "metadata": {},
   "source": [
    "Ans1) Index brackets ([]) are used to define \"list literals,\" allowing you to declare a list and its contents in your program. Index brackets are also used to write expressions that evaluate to a single item within a list, or a single character in a string."
   ]
  },
  {
   "cell_type": "markdown",
   "id": "86463d73",
   "metadata": {},
   "source": [
    "Ans2"
   ]
  },
  {
   "cell_type": "code",
   "execution_count": 34,
   "id": "9b2fdb22",
   "metadata": {},
   "outputs": [],
   "source": [
    "spam=[2,4,6,8,10]"
   ]
  },
  {
   "cell_type": "code",
   "execution_count": 35,
   "id": "a55024b0",
   "metadata": {},
   "outputs": [],
   "source": [
    "spam.insert(3,\"hello\")"
   ]
  },
  {
   "cell_type": "code",
   "execution_count": 36,
   "id": "c95431ac",
   "metadata": {},
   "outputs": [
    {
     "data": {
      "text/plain": [
       "[2, 4, 6, 'hello', 8, 10]"
      ]
     },
     "execution_count": 36,
     "metadata": {},
     "output_type": "execute_result"
    }
   ],
   "source": [
    "spam"
   ]
  },
  {
   "cell_type": "code",
   "execution_count": 53,
   "id": "4aef2863",
   "metadata": {},
   "outputs": [],
   "source": [
    "spam=[\"a\",\"b\",\"c\",\"d\"]"
   ]
  },
  {
   "cell_type": "code",
   "execution_count": 54,
   "id": "87cf3c66",
   "metadata": {},
   "outputs": [
    {
     "data": {
      "text/plain": [
       "['a', 'b', 'c', 'd']"
      ]
     },
     "execution_count": 54,
     "metadata": {},
     "output_type": "execute_result"
    }
   ],
   "source": [
    "spam"
   ]
  },
  {
   "cell_type": "markdown",
   "id": "cc3aa486",
   "metadata": {},
   "source": [
    "Ans3"
   ]
  },
  {
   "cell_type": "code",
   "execution_count": 55,
   "id": "9c3bb19c",
   "metadata": {},
   "outputs": [
    {
     "data": {
      "text/plain": [
       "'d'"
      ]
     },
     "execution_count": 55,
     "metadata": {},
     "output_type": "execute_result"
    }
   ],
   "source": [
    "spam[int(int('3'*2)/11)]"
   ]
  },
  {
   "cell_type": "markdown",
   "id": "83418f06",
   "metadata": {},
   "source": [
    "Ans4"
   ]
  },
  {
   "cell_type": "code",
   "execution_count": 56,
   "id": "f6ec9dc5",
   "metadata": {},
   "outputs": [
    {
     "data": {
      "text/plain": [
       "'d'"
      ]
     },
     "execution_count": 56,
     "metadata": {},
     "output_type": "execute_result"
    }
   ],
   "source": [
    "spam[-1]"
   ]
  },
  {
   "cell_type": "markdown",
   "id": "fcbe3878",
   "metadata": {},
   "source": [
    "Ans5"
   ]
  },
  {
   "cell_type": "code",
   "execution_count": 57,
   "id": "3ab44b36",
   "metadata": {},
   "outputs": [
    {
     "data": {
      "text/plain": [
       "['a', 'b']"
      ]
     },
     "execution_count": 57,
     "metadata": {},
     "output_type": "execute_result"
    }
   ],
   "source": [
    "spam[:2]"
   ]
  },
  {
   "cell_type": "code",
   "execution_count": 45,
   "id": "773a7a2a",
   "metadata": {},
   "outputs": [],
   "source": [
    "bacon=[3.14, 'cat', 11, 'cat', True]"
   ]
  },
  {
   "cell_type": "markdown",
   "id": "42343275",
   "metadata": {},
   "source": [
    "Ans6"
   ]
  },
  {
   "cell_type": "code",
   "execution_count": 46,
   "id": "36c36ea5",
   "metadata": {},
   "outputs": [
    {
     "data": {
      "text/plain": [
       "1"
      ]
     },
     "execution_count": 46,
     "metadata": {},
     "output_type": "execute_result"
    }
   ],
   "source": [
    "bacon.index('cat')"
   ]
  },
  {
   "cell_type": "markdown",
   "id": "52bdcda9",
   "metadata": {},
   "source": [
    "Ans7"
   ]
  },
  {
   "cell_type": "code",
   "execution_count": 47,
   "id": "635666f9",
   "metadata": {},
   "outputs": [],
   "source": [
    "bacon.append(99)"
   ]
  },
  {
   "cell_type": "code",
   "execution_count": 48,
   "id": "b2fa6ff0",
   "metadata": {},
   "outputs": [
    {
     "data": {
      "text/plain": [
       "[3.14, 'cat', 11, 'cat', True, 99]"
      ]
     },
     "execution_count": 48,
     "metadata": {},
     "output_type": "execute_result"
    }
   ],
   "source": [
    "bacon"
   ]
  },
  {
   "cell_type": "markdown",
   "id": "25bf8952",
   "metadata": {},
   "source": [
    "it added 99 in the available postiton, i.e. end"
   ]
  },
  {
   "cell_type": "markdown",
   "id": "e83e936a",
   "metadata": {},
   "source": [
    "Ans8"
   ]
  },
  {
   "cell_type": "code",
   "execution_count": 50,
   "id": "e8b23cfd",
   "metadata": {},
   "outputs": [],
   "source": [
    "bacon.remove('cat')"
   ]
  },
  {
   "cell_type": "code",
   "execution_count": 51,
   "id": "6dad4bb0",
   "metadata": {},
   "outputs": [
    {
     "data": {
      "text/plain": [
       "[3.14, 11, 'cat', True, 99]"
      ]
     },
     "execution_count": 51,
     "metadata": {},
     "output_type": "execute_result"
    }
   ],
   "source": [
    "bacon"
   ]
  },
  {
   "cell_type": "markdown",
   "id": "2b532cd5",
   "metadata": {},
   "source": [
    "It removes the first occurrence of the element with the specified value."
   ]
  },
  {
   "cell_type": "markdown",
   "id": "38308b3b",
   "metadata": {},
   "source": [
    "Ans9"
   ]
  },
  {
   "cell_type": "markdown",
   "id": "77822824",
   "metadata": {},
   "source": [
    "concatenation operator - \"+\" ,\n",
    "Repetition operator - \"*\""
   ]
  },
  {
   "cell_type": "markdown",
   "id": "ca3d3420",
   "metadata": {},
   "source": [
    "Ans10- append() adds an item to the end of a list, whereas . insert() inserts and item in a specified position in the list"
   ]
  },
  {
   "cell_type": "markdown",
   "id": "52ece3ca",
   "metadata": {},
   "source": [
    "Ans11- Using the remove() method,\n",
    "Using the list object’s pop() method,\n",
    "Using the del operator"
   ]
  },
  {
   "cell_type": "markdown",
   "id": "12cc4193",
   "metadata": {},
   "source": [
    "Ans12-The values that make up a list are called its elements. Lists are similar to strings, which are ordered collections of characters,"
   ]
  },
  {
   "cell_type": "markdown",
   "id": "802c156f",
   "metadata": {},
   "source": [
    "Ans13-tuples are immutable as opposed to lists which are mutable. Therefore, it is possible to change a list but not a tuple. The contents of a tuple cannot change once they have been created in Python due to the immutability of tuples"
   ]
  },
  {
   "cell_type": "markdown",
   "id": "489cac03",
   "metadata": {},
   "source": [
    "Ans14-(42,)"
   ]
  },
  {
   "cell_type": "markdown",
   "id": "9c822e6e",
   "metadata": {},
   "source": [
    "Ans15- list value's tuple form - By Using tuple() builtin function and\n",
    "        tuple value's list form - By Using list() builtin function"
   ]
  },
  {
   "cell_type": "markdown",
   "id": "959539b4",
   "metadata": {},
   "source": [
    "Ans16-  string or integer value."
   ]
  },
  {
   "cell_type": "markdown",
   "id": "f9ae30d1",
   "metadata": {},
   "source": [
    "Ans17- copy() create reference to original object. If you change copied object - you change the original object deepcopy() creates new object and does real copying of original object to new one."
   ]
  },
  {
   "cell_type": "code",
   "execution_count": null,
   "id": "9a31e8e8",
   "metadata": {},
   "outputs": [],
   "source": []
  }
 ],
 "metadata": {
  "kernelspec": {
   "display_name": "Python 3 (ipykernel)",
   "language": "python",
   "name": "python3"
  },
  "language_info": {
   "codemirror_mode": {
    "name": "ipython",
    "version": 3
   },
   "file_extension": ".py",
   "mimetype": "text/x-python",
   "name": "python",
   "nbconvert_exporter": "python",
   "pygments_lexer": "ipython3",
   "version": "3.9.12"
  }
 },
 "nbformat": 4,
 "nbformat_minor": 5
}
